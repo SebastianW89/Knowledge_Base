{
 "cells": [
  {
   "cell_type": "code",
   "execution_count": 74,
   "metadata": {},
   "outputs": [],
   "source": [
    "import pandas as pd\n",
    "pd.set_option(\"display.max.rows\",None)\n",
    "\n",
    "import matplotlib.pyplot as plt\n",
    "%matplotlib inline\n",
    "\n"
   ]
  },
  {
   "cell_type": "code",
   "execution_count": 75,
   "metadata": {},
   "outputs": [],
   "source": [
    "path='D:\\DataSets\\Corona\\World\\To_csv\\Vaccanations.csv'\n",
    "path=path.replace('\\\\','/')\n",
    "\n",
    "df=pd.read_csv(path)"
   ]
  },
  {
   "cell_type": "code",
   "execution_count": 76,
   "metadata": {},
   "outputs": [],
   "source": [
    "'''\n",
    "Convert the date column to datetime and set it as an index. This is\n",
    "It is important first to set the index and then convert it into datetime. Otherwise it is just a range of numbers\n",
    "You need to define the inplace=True parameter,\n",
    "otherthis,it just adds the date as a secound index and turn the first index (0,1,2,3) into a non sense datetime format\n",
    "'''\n",
    "df.set_index('Date',inplace=True)\n",
    "df.index=pd.to_datetime(df.index)"
   ]
  },
  {
   "cell_type": "code",
   "execution_count": 77,
   "metadata": {},
   "outputs": [
    {
     "data": {
      "text/plain": [
       "DatetimeIndex(['2020-12-27', '2020-12-28', '2020-12-29', '2020-12-30',\n",
       "               '2020-12-31', '2021-01-01', '2021-01-02', '2021-01-03',\n",
       "               '2021-01-04', '2021-01-05', '2021-01-06', '2021-01-07',\n",
       "               '2021-01-08', '2021-01-09', '2021-01-10', '2021-01-11',\n",
       "               '2021-01-12', '2021-01-13', '2021-01-14', '2021-01-15',\n",
       "               '2021-01-16', '2021-01-17', '2021-01-18', '2021-01-19',\n",
       "               '2021-01-20', '2021-01-21', '2021-01-22', '2021-01-23',\n",
       "               '2021-01-24', '2021-01-25', '2021-01-26', '2021-01-27',\n",
       "               '2021-01-28', '2021-01-29', '2021-01-30', '2021-01-31',\n",
       "               '2021-02-01', '2021-02-02', '2021-02-03', '2021-02-04',\n",
       "               '2021-02-05', '2021-02-06', '2021-02-07', '2021-02-08',\n",
       "               '2021-02-09', '2021-02-10', '2021-02-11', '2021-02-12',\n",
       "               '2021-02-13', '2021-02-14', '2021-02-15', '2021-02-16',\n",
       "               '2021-02-17', '2021-02-18', '2021-02-19', '2021-02-20',\n",
       "               '2021-02-21', '2021-02-22', '2021-02-23', '2021-02-24',\n",
       "               '2021-02-25', '2021-02-26', '2021-02-27', '2021-02-28',\n",
       "               '2021-03-01', '2021-03-02', '2021-03-03', '2021-03-04',\n",
       "               '2021-03-05', '2021-03-06', '2021-03-07', '2021-03-08',\n",
       "               '2021-03-09', '2021-03-10', '2021-03-11', '2021-03-12',\n",
       "               '2021-03-13', '2021-03-14', '2021-03-15'],\n",
       "              dtype='datetime64[ns]', name='Date', freq=None)"
      ]
     },
     "execution_count": 77,
     "metadata": {},
     "output_type": "execute_result"
    }
   ],
   "source": [
    "#The freq=None is the issue. Look below\n",
    "df.index"
   ]
  },
  {
   "cell_type": "code",
   "execution_count": 78,
   "metadata": {},
   "outputs": [],
   "source": [
    "'''\n",
    "It is not clear, in which frequency the dates are collected. So we will define them as collected by day.\n",
    "With that premise we can make some grouping with the datetime of the index.\n",
    "Avaible frequencys are:\n",
    "H=Hour\n",
    "D=Day\n",
    "B=Business day\n",
    "W=weekly\n",
    "M=monthly\n",
    "Q=quarterly\n",
    "A=annual\n",
    "and many others..\n",
    "'''\n",
    "df_freq=df.asfreq('D')"
   ]
  },
  {
   "cell_type": "code",
   "execution_count": 79,
   "metadata": {},
   "outputs": [
    {
     "data": {
      "text/plain": [
       "DatetimeIndex(['2020-12-27', '2020-12-28', '2020-12-29', '2020-12-30',\n",
       "               '2020-12-31', '2021-01-01', '2021-01-02', '2021-01-03',\n",
       "               '2021-01-04', '2021-01-05', '2021-01-06', '2021-01-07',\n",
       "               '2021-01-08', '2021-01-09', '2021-01-10', '2021-01-11',\n",
       "               '2021-01-12', '2021-01-13', '2021-01-14', '2021-01-15',\n",
       "               '2021-01-16', '2021-01-17', '2021-01-18', '2021-01-19',\n",
       "               '2021-01-20', '2021-01-21', '2021-01-22', '2021-01-23',\n",
       "               '2021-01-24', '2021-01-25', '2021-01-26', '2021-01-27',\n",
       "               '2021-01-28', '2021-01-29', '2021-01-30', '2021-01-31',\n",
       "               '2021-02-01', '2021-02-02', '2021-02-03', '2021-02-04',\n",
       "               '2021-02-05', '2021-02-06', '2021-02-07', '2021-02-08',\n",
       "               '2021-02-09', '2021-02-10', '2021-02-11', '2021-02-12',\n",
       "               '2021-02-13', '2021-02-14', '2021-02-15', '2021-02-16',\n",
       "               '2021-02-17', '2021-02-18', '2021-02-19', '2021-02-20',\n",
       "               '2021-02-21', '2021-02-22', '2021-02-23', '2021-02-24',\n",
       "               '2021-02-25', '2021-02-26', '2021-02-27', '2021-02-28',\n",
       "               '2021-03-01', '2021-03-02', '2021-03-03', '2021-03-04',\n",
       "               '2021-03-05', '2021-03-06', '2021-03-07', '2021-03-08',\n",
       "               '2021-03-09', '2021-03-10', '2021-03-11', '2021-03-12',\n",
       "               '2021-03-13', '2021-03-14', '2021-03-15'],\n",
       "              dtype='datetime64[ns]', name='Date', freq='D')"
      ]
     },
     "execution_count": 79,
     "metadata": {},
     "output_type": "execute_result"
    }
   ],
   "source": [
    "#Now the freq=D for day\n",
    "df_freq.index"
   ]
  },
  {
   "cell_type": "code",
   "execution_count": 80,
   "metadata": {},
   "outputs": [
    {
     "data": {
      "text/html": [
       "<div>\n",
       "<style scoped>\n",
       "    .dataframe tbody tr th:only-of-type {\n",
       "        vertical-align: middle;\n",
       "    }\n",
       "\n",
       "    .dataframe tbody tr th {\n",
       "        vertical-align: top;\n",
       "    }\n",
       "\n",
       "    .dataframe thead th {\n",
       "        text-align: right;\n",
       "    }\n",
       "</style>\n",
       "<table border=\"1\" class=\"dataframe\">\n",
       "  <thead>\n",
       "    <tr style=\"text-align: right;\">\n",
       "      <th></th>\n",
       "      <th>FirstVaccanations</th>\n",
       "      <th>SecoundVaccanations</th>\n",
       "      <th>TotalVaccanations</th>\n",
       "    </tr>\n",
       "    <tr>\n",
       "      <th>Date</th>\n",
       "      <th></th>\n",
       "      <th></th>\n",
       "      <th></th>\n",
       "    </tr>\n",
       "  </thead>\n",
       "  <tbody>\n",
       "    <tr>\n",
       "      <th>2020-12-27</th>\n",
       "      <td>23569.0</td>\n",
       "      <td>0.0</td>\n",
       "      <td>23569.0</td>\n",
       "    </tr>\n",
       "    <tr>\n",
       "      <th>2021-01-03</th>\n",
       "      <td>37132.0</td>\n",
       "      <td>0.0</td>\n",
       "      <td>37132.0</td>\n",
       "    </tr>\n",
       "    <tr>\n",
       "      <th>2021-01-10</th>\n",
       "      <td>52831.0</td>\n",
       "      <td>0.0</td>\n",
       "      <td>52831.0</td>\n",
       "    </tr>\n",
       "    <tr>\n",
       "      <th>2021-01-17</th>\n",
       "      <td>75278.0</td>\n",
       "      <td>2079.0</td>\n",
       "      <td>77357.0</td>\n",
       "    </tr>\n",
       "    <tr>\n",
       "      <th>2021-01-24</th>\n",
       "      <td>62367.0</td>\n",
       "      <td>33298.0</td>\n",
       "      <td>95666.0</td>\n",
       "    </tr>\n",
       "    <tr>\n",
       "      <th>2021-01-31</th>\n",
       "      <td>49120.0</td>\n",
       "      <td>47339.0</td>\n",
       "      <td>96458.0</td>\n",
       "    </tr>\n",
       "    <tr>\n",
       "      <th>2021-02-07</th>\n",
       "      <td>52927.0</td>\n",
       "      <td>64074.0</td>\n",
       "      <td>117001.0</td>\n",
       "    </tr>\n",
       "    <tr>\n",
       "      <th>2021-02-14</th>\n",
       "      <td>63481.0</td>\n",
       "      <td>59476.0</td>\n",
       "      <td>122958.0</td>\n",
       "    </tr>\n",
       "    <tr>\n",
       "      <th>2021-02-21</th>\n",
       "      <td>81330.0</td>\n",
       "      <td>48223.0</td>\n",
       "      <td>129553.0</td>\n",
       "    </tr>\n",
       "    <tr>\n",
       "      <th>2021-02-28</th>\n",
       "      <td>111060.0</td>\n",
       "      <td>49223.0</td>\n",
       "      <td>160283.0</td>\n",
       "    </tr>\n",
       "    <tr>\n",
       "      <th>2021-03-07</th>\n",
       "      <td>156363.0</td>\n",
       "      <td>54255.0</td>\n",
       "      <td>210618.0</td>\n",
       "    </tr>\n",
       "    <tr>\n",
       "      <th>2021-03-14</th>\n",
       "      <td>189474.0</td>\n",
       "      <td>55592.0</td>\n",
       "      <td>245067.0</td>\n",
       "    </tr>\n",
       "    <tr>\n",
       "      <th>2021-03-21</th>\n",
       "      <td>169080.0</td>\n",
       "      <td>56773.0</td>\n",
       "      <td>225853.0</td>\n",
       "    </tr>\n",
       "  </tbody>\n",
       "</table>\n",
       "</div>"
      ],
      "text/plain": [
       "            FirstVaccanations  SecoundVaccanations  TotalVaccanations\n",
       "Date                                                                 \n",
       "2020-12-27            23569.0                  0.0            23569.0\n",
       "2021-01-03            37132.0                  0.0            37132.0\n",
       "2021-01-10            52831.0                  0.0            52831.0\n",
       "2021-01-17            75278.0               2079.0            77357.0\n",
       "2021-01-24            62367.0              33298.0            95666.0\n",
       "2021-01-31            49120.0              47339.0            96458.0\n",
       "2021-02-07            52927.0              64074.0           117001.0\n",
       "2021-02-14            63481.0              59476.0           122958.0\n",
       "2021-02-21            81330.0              48223.0           129553.0\n",
       "2021-02-28           111060.0              49223.0           160283.0\n",
       "2021-03-07           156363.0              54255.0           210618.0\n",
       "2021-03-14           189474.0              55592.0           245067.0\n",
       "2021-03-21           169080.0              56773.0           225853.0"
      ]
     },
     "execution_count": 80,
     "metadata": {},
     "output_type": "execute_result"
    }
   ],
   "source": [
    "#As the index is now define as daily frequency we can go for grouping\n",
    "#First, we want to group by the date for every weak and calculate the mean of each column.\n",
    "#The columns also can be spezified, if desired\n",
    "df_freq.resample('W').mean().round()"
   ]
  },
  {
   "cell_type": "code",
   "execution_count": 81,
   "metadata": {},
   "outputs": [
    {
     "data": {
      "text/html": [
       "<div>\n",
       "<style scoped>\n",
       "    .dataframe tbody tr th:only-of-type {\n",
       "        vertical-align: middle;\n",
       "    }\n",
       "\n",
       "    .dataframe tbody tr th {\n",
       "        vertical-align: top;\n",
       "    }\n",
       "\n",
       "    .dataframe thead th {\n",
       "        text-align: right;\n",
       "    }\n",
       "</style>\n",
       "<table border=\"1\" class=\"dataframe\">\n",
       "  <thead>\n",
       "    <tr style=\"text-align: right;\">\n",
       "      <th></th>\n",
       "      <th>FirstVaccanations</th>\n",
       "      <th>SecoundVaccanations</th>\n",
       "      <th>TotalVaccanations</th>\n",
       "    </tr>\n",
       "    <tr>\n",
       "      <th>Date</th>\n",
       "      <th></th>\n",
       "      <th></th>\n",
       "      <th></th>\n",
       "    </tr>\n",
       "  </thead>\n",
       "  <tbody>\n",
       "    <tr>\n",
       "      <th>2020-12-31</th>\n",
       "      <td>36316.0</td>\n",
       "      <td>0.0</td>\n",
       "      <td>36316.0</td>\n",
       "    </tr>\n",
       "    <tr>\n",
       "      <th>2021-01-31</th>\n",
       "      <td>57390.0</td>\n",
       "      <td>18678.0</td>\n",
       "      <td>76068.0</td>\n",
       "    </tr>\n",
       "    <tr>\n",
       "      <th>2021-02-28</th>\n",
       "      <td>77199.0</td>\n",
       "      <td>55249.0</td>\n",
       "      <td>132449.0</td>\n",
       "    </tr>\n",
       "    <tr>\n",
       "      <th>2021-03-31</th>\n",
       "      <td>172663.0</td>\n",
       "      <td>55047.0</td>\n",
       "      <td>227710.0</td>\n",
       "    </tr>\n",
       "  </tbody>\n",
       "</table>\n",
       "</div>"
      ],
      "text/plain": [
       "            FirstVaccanations  SecoundVaccanations  TotalVaccanations\n",
       "Date                                                                 \n",
       "2020-12-31            36316.0                  0.0            36316.0\n",
       "2021-01-31            57390.0              18678.0            76068.0\n",
       "2021-02-28            77199.0              55249.0           132449.0\n",
       "2021-03-31           172663.0              55047.0           227710.0"
      ]
     },
     "execution_count": 81,
     "metadata": {},
     "output_type": "execute_result"
    }
   ],
   "source": [
    "df_freq.resample('M').mean().round()"
   ]
  },
  {
   "cell_type": "code",
   "execution_count": 96,
   "metadata": {},
   "outputs": [
    {
     "data": {
      "text/html": [
       "<div>\n",
       "<style scoped>\n",
       "    .dataframe tbody tr th:only-of-type {\n",
       "        vertical-align: middle;\n",
       "    }\n",
       "\n",
       "    .dataframe tbody tr th {\n",
       "        vertical-align: top;\n",
       "    }\n",
       "\n",
       "    .dataframe thead th {\n",
       "        text-align: right;\n",
       "    }\n",
       "</style>\n",
       "<table border=\"1\" class=\"dataframe\">\n",
       "  <thead>\n",
       "    <tr style=\"text-align: right;\">\n",
       "      <th></th>\n",
       "      <th>FirstVaccanations</th>\n",
       "      <th>SecoundVaccanations</th>\n",
       "      <th>TotalVaccanations</th>\n",
       "    </tr>\n",
       "    <tr>\n",
       "      <th>Date</th>\n",
       "      <th></th>\n",
       "      <th></th>\n",
       "      <th></th>\n",
       "    </tr>\n",
       "  </thead>\n",
       "  <tbody>\n",
       "    <tr>\n",
       "      <th>2020-12-27</th>\n",
       "      <td>NaN</td>\n",
       "      <td>NaN</td>\n",
       "      <td>NaN</td>\n",
       "    </tr>\n",
       "    <tr>\n",
       "      <th>2020-12-28</th>\n",
       "      <td>NaN</td>\n",
       "      <td>NaN</td>\n",
       "      <td>NaN</td>\n",
       "    </tr>\n",
       "    <tr>\n",
       "      <th>2020-12-29</th>\n",
       "      <td>NaN</td>\n",
       "      <td>NaN</td>\n",
       "      <td>NaN</td>\n",
       "    </tr>\n",
       "    <tr>\n",
       "      <th>2020-12-30</th>\n",
       "      <td>NaN</td>\n",
       "      <td>NaN</td>\n",
       "      <td>NaN</td>\n",
       "    </tr>\n",
       "    <tr>\n",
       "      <th>2020-12-31</th>\n",
       "      <td>NaN</td>\n",
       "      <td>NaN</td>\n",
       "      <td>NaN</td>\n",
       "    </tr>\n",
       "    <tr>\n",
       "      <th>2021-01-01</th>\n",
       "      <td>NaN</td>\n",
       "      <td>NaN</td>\n",
       "      <td>NaN</td>\n",
       "    </tr>\n",
       "    <tr>\n",
       "      <th>2021-01-02</th>\n",
       "      <td>36930.0</td>\n",
       "      <td>0.0</td>\n",
       "      <td>36930.0</td>\n",
       "    </tr>\n",
       "    <tr>\n",
       "      <th>2021-01-03</th>\n",
       "      <td>37132.0</td>\n",
       "      <td>0.0</td>\n",
       "      <td>37132.0</td>\n",
       "    </tr>\n",
       "    <tr>\n",
       "      <th>2021-01-04</th>\n",
       "      <td>41410.0</td>\n",
       "      <td>0.0</td>\n",
       "      <td>41410.0</td>\n",
       "    </tr>\n",
       "    <tr>\n",
       "      <th>2021-01-05</th>\n",
       "      <td>42811.0</td>\n",
       "      <td>0.0</td>\n",
       "      <td>42811.0</td>\n",
       "    </tr>\n",
       "    <tr>\n",
       "      <th>2021-01-06</th>\n",
       "      <td>42977.0</td>\n",
       "      <td>0.0</td>\n",
       "      <td>42977.0</td>\n",
       "    </tr>\n",
       "    <tr>\n",
       "      <th>2021-01-07</th>\n",
       "      <td>45812.0</td>\n",
       "      <td>0.0</td>\n",
       "      <td>45812.0</td>\n",
       "    </tr>\n",
       "    <tr>\n",
       "      <th>2021-01-08</th>\n",
       "      <td>50912.0</td>\n",
       "      <td>0.0</td>\n",
       "      <td>50912.0</td>\n",
       "    </tr>\n",
       "    <tr>\n",
       "      <th>2021-01-09</th>\n",
       "      <td>51646.0</td>\n",
       "      <td>0.0</td>\n",
       "      <td>51646.0</td>\n",
       "    </tr>\n",
       "    <tr>\n",
       "      <th>2021-01-10</th>\n",
       "      <td>52831.0</td>\n",
       "      <td>0.0</td>\n",
       "      <td>52831.0</td>\n",
       "    </tr>\n",
       "  </tbody>\n",
       "</table>\n",
       "</div>"
      ],
      "text/plain": [
       "            FirstVaccanations  SecoundVaccanations  TotalVaccanations\n",
       "Date                                                                 \n",
       "2020-12-27                NaN                  NaN                NaN\n",
       "2020-12-28                NaN                  NaN                NaN\n",
       "2020-12-29                NaN                  NaN                NaN\n",
       "2020-12-30                NaN                  NaN                NaN\n",
       "2020-12-31                NaN                  NaN                NaN\n",
       "2021-01-01                NaN                  NaN                NaN\n",
       "2021-01-02            36930.0                  0.0            36930.0\n",
       "2021-01-03            37132.0                  0.0            37132.0\n",
       "2021-01-04            41410.0                  0.0            41410.0\n",
       "2021-01-05            42811.0                  0.0            42811.0\n",
       "2021-01-06            42977.0                  0.0            42977.0\n",
       "2021-01-07            45812.0                  0.0            45812.0\n",
       "2021-01-08            50912.0                  0.0            50912.0\n",
       "2021-01-09            51646.0                  0.0            51646.0\n",
       "2021-01-10            52831.0                  0.0            52831.0"
      ]
     },
     "execution_count": 96,
     "metadata": {},
     "output_type": "execute_result"
    }
   ],
   "source": [
    "# A 7-day rolling mean\n",
    "df_7d_rolling=df_freq.rolling(window=7).mean().round()\n",
    "df_7d_rolling.head(15)"
   ]
  },
  {
   "cell_type": "code",
   "execution_count": 97,
   "metadata": {},
   "outputs": [
    {
     "data": {
      "text/plain": [
       "<AxesSubplot:xlabel='Date'>"
      ]
     },
     "execution_count": 97,
     "metadata": {},
     "output_type": "execute_result"
    },
    {
     "data": {
      "image/png": "[encoded data removed]",
      "text/plain": [
       "<Figure size 432x288 with 1 Axes>"
      ]
     },
     "metadata": {
      "needs_background": "light"
     },
     "output_type": "display_data"
    }
   ],
   "source": [
    "df_7d_rolling.plot()"
   ]
  },
  {
   "cell_type": "code",
   "execution_count": 100,
   "metadata": {},
   "outputs": [],
   "source": [
    "df_365d_rolling=df_freq.rolling(window=30).mean().round()"
   ]
  },
  {
   "cell_type": "code",
   "execution_count": 119,
   "metadata": {},
   "outputs": [
    {
     "data": {
      "text/plain": [
       "<matplotlib.legend.Legend at 0x209548ea520>"
      ]
     },
     "execution_count": 119,
     "metadata": {},
     "output_type": "execute_result"
    },
    {
     "data": {
      "image/png": "[encoded data removed]",
      "text/plain": [
       "<Figure size 1440x576 with 1 Axes>"
      ]
     },
     "metadata": {
      "needs_background": "light"
     },
     "output_type": "display_data"
    }
   ],
   "source": [
    "fig,ax=plt.subplots(figsize=(20,8))\n",
    "#daily data\n",
    "ax.plot(df['TotalVaccanations'],\n",
    "       marker='.',\n",
    "       linestyle='None',\n",
    "       label='Daily')\n",
    "#plotting 7day rolling\n",
    "ax.plot(df_7d_rolling['TotalVaccanations'],\n",
    "      linewidth=2,\n",
    "      label='7-day rolling Mean')\n",
    "\n",
    "#plotting anual data\n",
    "ax.plot(df_365d_rolling['TotalVaccanations'],\n",
    "       color='0.5',\n",
    "       linewidth=3,\n",
    "       label='Trend 365 days')\n",
    "\n",
    "#Beautifulication\n",
    "ax.legend()"
   ]
  },
  {
   "cell_type": "code",
   "execution_count": null,
   "metadata": {},
   "outputs": [],
   "source": []
  },
  {
   "cell_type": "code",
   "execution_count": null,
   "metadata": {},
   "outputs": [],
   "source": []
  }
 ],
 "metadata": {
  "kernelspec": {
   "display_name": "Python 3",
   "language": "python",
   "name": "python3"
  },
  "language_info": {
   "codemirror_mode": {
    "name": "ipython",
    "version": 3
   },
   "file_extension": ".py",
   "mimetype": "text/x-python",
   "name": "python",
   "nbconvert_exporter": "python",
   "pygments_lexer": "ipython3",
   "version": "3.8.5"
  }
 },
 "nbformat": 4,
 "nbformat_minor": 4
}
