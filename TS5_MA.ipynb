{
 "cells": [
  {
   "cell_type": "code",
   "execution_count": 1,
   "metadata": {},
   "outputs": [],
   "source": [
    "import pandas as pd\n",
    "import numpy as np\n",
    "import matplotlib.pyplot as plt\n",
    "%matplotlib inline\n",
    "import statsmodels.graphics.tsaplots as sgt\n",
    "from statsmodels.tsa.arima_model import ARMA\n",
    "from scipy.stats.distributions import chi2\n",
    "import statsmodels.tsa.stattools as sts\n",
    "import seaborn as sns\n",
    "\n",
    "sns.set()"
   ]
  },
  {
   "cell_type": "code",
   "execution_count": 12,
   "metadata": {},
   "outputs": [],
   "source": [
    "path=r'D:\\DataSets\\365\\TimeSeries\\3\\index2018.csv'\n",
    "path='/'.join(str(path).split('\\\\'))\n",
    "raw_data=pd.read_csv(path)\n",
    "df=raw_data.copy()"
   ]
  },
  {
   "cell_type": "code",
   "execution_count": 13,
   "metadata": {},
   "outputs": [],
   "source": [
    "del df['spx'],df['dax'],df['nikkei']"
   ]
  },
  {
   "cell_type": "code",
   "execution_count": 14,
   "metadata": {},
   "outputs": [],
   "source": [
    "df['date']=pd.to_datetime(df['date'],dayfirst=True)\n",
    "df.set_index(keys='date',inplace=True)\n",
    "df=df.asfreq('b')\n",
    "df['ftse']=df.ftse.fillna(method='ffill')"
   ]
  },
  {
   "cell_type": "code",
   "execution_count": 15,
   "metadata": {},
   "outputs": [],
   "source": [
    "size=int(len(df.ftse)*.8)\n",
    "df_train,test=df.iloc[:size],df.iloc[size:]\n"
   ]
  },
  {
   "cell_type": "code",
   "execution_count": 16,
   "metadata": {},
   "outputs": [],
   "source": [
    "def llr_test(simple,complicated,df=1):\n",
    "    l1=simple.fit().llf\n",
    "    l2=complicated.fit().llf\n",
    "    lr=(2*(l2-l1)) # Why I use this here?\n",
    "    p=chi2.sf(lr,df).round(3)\n",
    "    return p"
   ]
  },
  {
   "cell_type": "code",
   "execution_count": 17,
   "metadata": {},
   "outputs": [
    {
     "name": "stderr",
     "output_type": "stream",
     "text": [
      "<ipython-input-17-75db8a448b30>:1: SettingWithCopyWarning: \n",
      "A value is trying to be set on a copy of a slice from a DataFrame.\n",
      "Try using .loc[row_indexer,col_indexer] = value instead\n",
      "\n",
      "See the caveats in the documentation: https://pandas.pydata.org/pandas-docs/stable/user_guide/indexing.html#returning-a-view-versus-a-copy\n",
      "  df_train['returns']=df_train.ftse.pct_change(periods=1).mul(100).round(2)\n"
     ]
    }
   ],
   "source": [
    "df_train['returns']=df_train.ftse.pct_change(periods=1).mul(100).round(2)\n"
   ]
  },
  {
   "cell_type": "code",
   "execution_count": 19,
   "metadata": {},
   "outputs": [
    {
     "data": {
      "image/png": "[encoded data removed]",
      "text/plain": [
       "<Figure size 432x288 with 1 Axes>"
      ]
     },
     "metadata": {},
     "output_type": "display_data"
    }
   ],
   "source": [
    "sgt.plot_acf(df_train.returns[1:],lags=40,zero=False)\n",
    "plt.title('ACF of Returns',size=24);"
   ]
  },
  {
   "cell_type": "code",
   "execution_count": 21,
   "metadata": {},
   "outputs": [
    {
     "name": "stderr",
     "output_type": "stream",
     "text": [
      "D:\\Users\\sebas\\anaconda3\\lib\\site-packages\\statsmodels\\tsa\\arima_model.py:472: FutureWarning: \n",
      "statsmodels.tsa.arima_model.ARMA and statsmodels.tsa.arima_model.ARIMA have\n",
      "been deprecated in favor of statsmodels.tsa.arima.model.ARIMA (note the .\n",
      "between arima and model) and\n",
      "statsmodels.tsa.SARIMAX. These will be removed after the 0.12 release.\n",
      "\n",
      "statsmodels.tsa.arima.model.ARIMA makes use of the statespace framework and\n",
      "is both well tested and maintained.\n",
      "\n",
      "To silence this warning and continue using ARMA and ARIMA until they are\n",
      "removed, use:\n",
      "\n",
      "import warnings\n",
      "warnings.filterwarnings('ignore', 'statsmodels.tsa.arima_model.ARMA',\n",
      "                        FutureWarning)\n",
      "warnings.filterwarnings('ignore', 'statsmodels.tsa.arima_model.ARIMA',\n",
      "                        FutureWarning)\n",
      "\n",
      "  warnings.warn(ARIMA_DEPRECATION_WARN, FutureWarning)\n"
     ]
    },
    {
     "data": {
      "text/html": [
       "<table class=\"simpletable\">\n",
       "<caption>ARMA Model Results</caption>\n",
       "<tr>\n",
       "  <th>Dep. Variable:</th>      <td>returns</td>     <th>  No. Observations:  </th>   <td>5020</td>   \n",
       "</tr>\n",
       "<tr>\n",
       "  <th>Model:</th>            <td>ARMA(0, 1)</td>    <th>  Log Likelihood     </th> <td>-7929.241</td>\n",
       "</tr>\n",
       "<tr>\n",
       "  <th>Method:</th>             <td>css-mle</td>     <th>  S.D. of innovations</th>   <td>1.174</td>  \n",
       "</tr>\n",
       "<tr>\n",
       "  <th>Date:</th>          <td>Sun, 11 Jul 2021</td> <th>  AIC                </th> <td>15864.482</td>\n",
       "</tr>\n",
       "<tr>\n",
       "  <th>Time:</th>              <td>10:43:14</td>     <th>  BIC                </th> <td>15884.045</td>\n",
       "</tr>\n",
       "<tr>\n",
       "  <th>Sample:</th>           <td>01-10-1994</td>    <th>  HQIC               </th> <td>15871.337</td>\n",
       "</tr>\n",
       "<tr>\n",
       "  <th></th>                 <td>- 04-05-2013</td>   <th>                     </th>     <td> </td>    \n",
       "</tr>\n",
       "</table>\n",
       "<table class=\"simpletable\">\n",
       "<tr>\n",
       "        <td></td>           <th>coef</th>     <th>std err</th>      <th>z</th>      <th>P>|z|</th>  <th>[0.025</th>    <th>0.975]</th>  \n",
       "</tr>\n",
       "<tr>\n",
       "  <th>const</th>         <td>    0.0188</td> <td>    0.016</td> <td>    1.165</td> <td> 0.244</td> <td>   -0.013</td> <td>    0.050</td>\n",
       "</tr>\n",
       "<tr>\n",
       "  <th>ma.L1.returns</th> <td>   -0.0257</td> <td>    0.015</td> <td>   -1.721</td> <td> 0.085</td> <td>   -0.055</td> <td>    0.004</td>\n",
       "</tr>\n",
       "</table>\n",
       "<table class=\"simpletable\">\n",
       "<caption>Roots</caption>\n",
       "<tr>\n",
       "    <td></td>   <th>            Real</th>  <th>         Imaginary</th> <th>         Modulus</th>  <th>        Frequency</th>\n",
       "</tr>\n",
       "<tr>\n",
       "  <th>MA.1</th> <td>          38.8397</td> <td>          +0.0000j</td> <td>          38.8397</td> <td>           0.0000</td>\n",
       "</tr>\n",
       "</table>"
      ],
      "text/plain": [
       "<class 'statsmodels.iolib.summary.Summary'>\n",
       "\"\"\"\n",
       "                              ARMA Model Results                              \n",
       "==============================================================================\n",
       "Dep. Variable:                returns   No. Observations:                 5020\n",
       "Model:                     ARMA(0, 1)   Log Likelihood               -7929.241\n",
       "Method:                       css-mle   S.D. of innovations              1.174\n",
       "Date:                Sun, 11 Jul 2021   AIC                          15864.482\n",
       "Time:                        10:43:14   BIC                          15884.045\n",
       "Sample:                    01-10-1994   HQIC                         15871.337\n",
       "                         - 04-05-2013                                         \n",
       "=================================================================================\n",
       "                    coef    std err          z      P>|z|      [0.025      0.975]\n",
       "---------------------------------------------------------------------------------\n",
       "const             0.0188      0.016      1.165      0.244      -0.013       0.050\n",
       "ma.L1.returns    -0.0257      0.015     -1.721      0.085      -0.055       0.004\n",
       "                                    Roots                                    \n",
       "=============================================================================\n",
       "                  Real          Imaginary           Modulus         Frequency\n",
       "-----------------------------------------------------------------------------\n",
       "MA.1           38.8397           +0.0000j           38.8397            0.0000\n",
       "-----------------------------------------------------------------------------\n",
       "\"\"\""
      ]
     },
     "execution_count": 21,
     "metadata": {},
     "output_type": "execute_result"
    }
   ],
   "source": [
    "model_ret_ma_1=ARMA(df_train.returns[1:],order=(0,1))\n",
    "results_ret_ma_1=model_ret_ma_1.fit()\n",
    "results_ret_ma_1.summary()"
   ]
  },
  {
   "cell_type": "markdown",
   "metadata": {},
   "source": [
    "### Using higher Lags"
   ]
  },
  {
   "cell_type": "code",
   "execution_count": 24,
   "metadata": {},
   "outputs": [
    {
     "name": "stdout",
     "output_type": "stream",
     "text": [
      "                              ARMA Model Results                              \n",
      "==============================================================================\n",
      "Dep. Variable:                returns   No. Observations:                 5020\n",
      "Model:                     ARMA(0, 2)   Log Likelihood               -7922.503\n",
      "Method:                       css-mle   S.D. of innovations              1.173\n",
      "Date:                Sun, 11 Jul 2021   AIC                          15853.006\n",
      "Time:                        11:48:52   BIC                          15879.091\n",
      "Sample:                    01-10-1994   HQIC                         15862.146\n",
      "                         - 04-05-2013                                         \n",
      "=================================================================================\n",
      "                    coef    std err          z      P>|z|      [0.025      0.975]\n",
      "---------------------------------------------------------------------------------\n",
      "const             0.0188      0.015      1.242      0.214      -0.011       0.049\n",
      "ma.L1.returns    -0.0327      0.014     -2.298      0.022      -0.061      -0.005\n",
      "ma.L2.returns    -0.0502      0.014     -3.670      0.000      -0.077      -0.023\n",
      "                                    Roots                                    \n",
      "=============================================================================\n",
      "                  Real          Imaginary           Modulus         Frequency\n",
      "-----------------------------------------------------------------------------\n",
      "MA.1            4.1487           +0.0000j            4.1487            0.0000\n",
      "MA.2           -4.7992           +0.0000j            4.7992            0.5000\n",
      "-----------------------------------------------------------------------------\n",
      "\n",
      "LLR Tests p-value:0.0\n"
     ]
    }
   ],
   "source": [
    "model_ret_ma_2=ARMA(df_train.returns[1:],order=(0,2))\n",
    "results_ret_ma_2=model_ret_ma_2.fit()\n",
    "print(results_ret_ma_2.summary())\n",
    "print('\\nLLR Tests p-value:' +str(llr_test(model_ret_ma_1,model_ret_ma_2)))\n"
   ]
  },
  {
   "cell_type": "code",
   "execution_count": 25,
   "metadata": {},
   "outputs": [
    {
     "name": "stderr",
     "output_type": "stream",
     "text": [
      "D:\\Users\\sebas\\anaconda3\\lib\\site-packages\\statsmodels\\tsa\\arima_model.py:472: FutureWarning: \n",
      "statsmodels.tsa.arima_model.ARMA and statsmodels.tsa.arima_model.ARIMA have\n",
      "been deprecated in favor of statsmodels.tsa.arima.model.ARIMA (note the .\n",
      "between arima and model) and\n",
      "statsmodels.tsa.SARIMAX. These will be removed after the 0.12 release.\n",
      "\n",
      "statsmodels.tsa.arima.model.ARIMA makes use of the statespace framework and\n",
      "is both well tested and maintained.\n",
      "\n",
      "To silence this warning and continue using ARMA and ARIMA until they are\n",
      "removed, use:\n",
      "\n",
      "import warnings\n",
      "warnings.filterwarnings('ignore', 'statsmodels.tsa.arima_model.ARMA',\n",
      "                        FutureWarning)\n",
      "warnings.filterwarnings('ignore', 'statsmodels.tsa.arima_model.ARIMA',\n",
      "                        FutureWarning)\n",
      "\n",
      "  warnings.warn(ARIMA_DEPRECATION_WARN, FutureWarning)\n"
     ]
    },
    {
     "name": "stdout",
     "output_type": "stream",
     "text": [
      "                              ARMA Model Results                              \n",
      "==============================================================================\n",
      "Dep. Variable:                returns   No. Observations:                 5020\n",
      "Model:                     ARMA(0, 3)   Log Likelihood               -7903.945\n",
      "Method:                       css-mle   S.D. of innovations              1.168\n",
      "Date:                Sun, 11 Jul 2021   AIC                          15817.890\n",
      "Time:                        11:49:24   BIC                          15850.496\n",
      "Sample:                    01-10-1994   HQIC                         15829.316\n",
      "                         - 04-05-2013                                         \n",
      "=================================================================================\n",
      "                    coef    std err          z      P>|z|      [0.025      0.975]\n",
      "---------------------------------------------------------------------------------\n",
      "const             0.0189      0.014      1.378      0.168      -0.008       0.046\n",
      "ma.L1.returns    -0.0203      0.014     -1.424      0.154      -0.048       0.008\n",
      "ma.L2.returns    -0.0557      0.013     -4.136      0.000      -0.082      -0.029\n",
      "ma.L3.returns    -0.0904      0.015     -6.123      0.000      -0.119      -0.061\n",
      "                                    Roots                                    \n",
      "=============================================================================\n",
      "                  Real          Imaginary           Modulus         Frequency\n",
      "-----------------------------------------------------------------------------\n",
      "MA.1            2.0102           -0.0000j            2.0102           -0.0000\n",
      "MA.2           -1.3129           -1.9439j            2.3457           -0.3445\n",
      "MA.3           -1.3129           +1.9439j            2.3457            0.3445\n",
      "-----------------------------------------------------------------------------\n",
      "\n",
      "LLR Tests p-value:0.0\n"
     ]
    }
   ],
   "source": [
    "model_ret_ma_3=ARMA(df_train.returns[1:],order=(0,3))\n",
    "results_ret_ma_3=model_ret_ma_3.fit()\n",
    "print(results_ret_ma_3.summary())\n",
    "print('\\nLLR Tests p-value:' +str(llr_test(model_ret_ma_2,model_ret_ma_3)))"
   ]
  },
  {
   "cell_type": "code",
   "execution_count": 26,
   "metadata": {},
   "outputs": [
    {
     "name": "stderr",
     "output_type": "stream",
     "text": [
      "D:\\Users\\sebas\\anaconda3\\lib\\site-packages\\statsmodels\\tsa\\arima_model.py:472: FutureWarning: \n",
      "statsmodels.tsa.arima_model.ARMA and statsmodels.tsa.arima_model.ARIMA have\n",
      "been deprecated in favor of statsmodels.tsa.arima.model.ARIMA (note the .\n",
      "between arima and model) and\n",
      "statsmodels.tsa.SARIMAX. These will be removed after the 0.12 release.\n",
      "\n",
      "statsmodels.tsa.arima.model.ARIMA makes use of the statespace framework and\n",
      "is both well tested and maintained.\n",
      "\n",
      "To silence this warning and continue using ARMA and ARIMA until they are\n",
      "removed, use:\n",
      "\n",
      "import warnings\n",
      "warnings.filterwarnings('ignore', 'statsmodels.tsa.arima_model.ARMA',\n",
      "                        FutureWarning)\n",
      "warnings.filterwarnings('ignore', 'statsmodels.tsa.arima_model.ARIMA',\n",
      "                        FutureWarning)\n",
      "\n",
      "  warnings.warn(ARIMA_DEPRECATION_WARN, FutureWarning)\n"
     ]
    },
    {
     "name": "stdout",
     "output_type": "stream",
     "text": [
      "                              ARMA Model Results                              \n",
      "==============================================================================\n",
      "Dep. Variable:                returns   No. Observations:                 5020\n",
      "Model:                     ARMA(0, 4)   Log Likelihood               -7898.403\n",
      "Method:                       css-mle   S.D. of innovations              1.167\n",
      "Date:                Sun, 11 Jul 2021   AIC                          15808.807\n",
      "Time:                        11:50:02   BIC                          15847.934\n",
      "Sample:                    01-10-1994   HQIC                         15822.517\n",
      "                         - 04-05-2013                                         \n",
      "=================================================================================\n",
      "                    coef    std err          z      P>|z|      [0.025      0.975]\n",
      "---------------------------------------------------------------------------------\n",
      "const             0.0189      0.014      1.308      0.191      -0.009       0.047\n",
      "ma.L1.returns    -0.0203      0.014     -1.443      0.149      -0.048       0.007\n",
      "ma.L2.returns    -0.0551      0.014     -3.904      0.000      -0.083      -0.027\n",
      "ma.L3.returns    -0.0922      0.015     -6.308      0.000      -0.121      -0.064\n",
      "ma.L4.returns     0.0454      0.014      3.337      0.001       0.019       0.072\n",
      "                                    Roots                                    \n",
      "=============================================================================\n",
      "                  Real          Imaginary           Modulus         Frequency\n",
      "-----------------------------------------------------------------------------\n",
      "MA.1           -1.2257           -1.4205j            1.8762           -0.3633\n",
      "MA.2           -1.2257           +1.4205j            1.8762            0.3633\n",
      "MA.3            2.2410           -1.1099j            2.5008           -0.0732\n",
      "MA.4            2.2410           +1.1099j            2.5008            0.0732\n",
      "-----------------------------------------------------------------------------\n",
      "\n",
      "LLR Tests p-value:0.001\n"
     ]
    }
   ],
   "source": [
    "model_ret_ma_4=ARMA(df_train.returns[1:],order=(0,4))\n",
    "results_ret_ma_4=model_ret_ma_4.fit()\n",
    "print(results_ret_ma_4.summary())\n",
    "print('\\nLLR Tests p-value:' +str(llr_test(model_ret_ma_3,model_ret_ma_4)))"
   ]
  },
  {
   "cell_type": "code",
   "execution_count": 27,
   "metadata": {},
   "outputs": [
    {
     "name": "stderr",
     "output_type": "stream",
     "text": [
      "D:\\Users\\sebas\\anaconda3\\lib\\site-packages\\statsmodels\\tsa\\arima_model.py:472: FutureWarning: \n",
      "statsmodels.tsa.arima_model.ARMA and statsmodels.tsa.arima_model.ARIMA have\n",
      "been deprecated in favor of statsmodels.tsa.arima.model.ARIMA (note the .\n",
      "between arima and model) and\n",
      "statsmodels.tsa.SARIMAX. These will be removed after the 0.12 release.\n",
      "\n",
      "statsmodels.tsa.arima.model.ARIMA makes use of the statespace framework and\n",
      "is both well tested and maintained.\n",
      "\n",
      "To silence this warning and continue using ARMA and ARIMA until they are\n",
      "removed, use:\n",
      "\n",
      "import warnings\n",
      "warnings.filterwarnings('ignore', 'statsmodels.tsa.arima_model.ARMA',\n",
      "                        FutureWarning)\n",
      "warnings.filterwarnings('ignore', 'statsmodels.tsa.arima_model.ARIMA',\n",
      "                        FutureWarning)\n",
      "\n",
      "  warnings.warn(ARIMA_DEPRECATION_WARN, FutureWarning)\n"
     ]
    },
    {
     "name": "stdout",
     "output_type": "stream",
     "text": [
      "                              ARMA Model Results                              \n",
      "==============================================================================\n",
      "Dep. Variable:                returns   No. Observations:                 5020\n",
      "Model:                     ARMA(0, 5)   Log Likelihood               -7892.447\n",
      "Method:                       css-mle   S.D. of innovations              1.166\n",
      "Date:                Sun, 11 Jul 2021   AIC                          15798.894\n",
      "Time:                        11:50:28   BIC                          15844.542\n",
      "Sample:                    01-10-1994   HQIC                         15814.889\n",
      "                         - 04-05-2013                                         \n",
      "=================================================================================\n",
      "                    coef    std err          z      P>|z|      [0.025      0.975]\n",
      "---------------------------------------------------------------------------------\n",
      "const             0.0189      0.014      1.379      0.168      -0.008       0.046\n",
      "ma.L1.returns    -0.0262      0.014     -1.852      0.064      -0.054       0.002\n",
      "ma.L2.returns    -0.0498      0.014     -3.520      0.000      -0.077      -0.022\n",
      "ma.L3.returns    -0.0852      0.015     -5.802      0.000      -0.114      -0.056\n",
      "ma.L4.returns     0.0458      0.014      3.374      0.001       0.019       0.072\n",
      "ma.L5.returns    -0.0500      0.014     -3.455      0.001      -0.078      -0.022\n",
      "                                    Roots                                    \n",
      "=============================================================================\n",
      "                  Real          Imaginary           Modulus         Frequency\n",
      "-----------------------------------------------------------------------------\n",
      "MA.1           -1.2126           -1.0804j            1.6241           -0.3842\n",
      "MA.2           -1.2126           +1.0804j            1.6241            0.3842\n",
      "MA.3            1.7302           -0.0000j            1.7302           -0.0000\n",
      "MA.4            0.8060           -1.9324j            2.0938           -0.1871\n",
      "MA.5            0.8060           +1.9324j            2.0938            0.1871\n",
      "-----------------------------------------------------------------------------\n",
      "\n",
      "LLR Tests p-value:0.001\n"
     ]
    }
   ],
   "source": [
    "model_ret_ma_5=ARMA(df_train.returns[1:],order=(0,5))\n",
    "results_ret_ma_5=model_ret_ma_5.fit()\n",
    "print(results_ret_ma_5.summary())\n",
    "print('\\nLLR Tests p-value:' +str(llr_test(model_ret_ma_4,model_ret_ma_5)))"
   ]
  },
  {
   "cell_type": "code",
   "execution_count": 28,
   "metadata": {},
   "outputs": [
    {
     "name": "stderr",
     "output_type": "stream",
     "text": [
      "D:\\Users\\sebas\\anaconda3\\lib\\site-packages\\statsmodels\\tsa\\arima_model.py:472: FutureWarning: \n",
      "statsmodels.tsa.arima_model.ARMA and statsmodels.tsa.arima_model.ARIMA have\n",
      "been deprecated in favor of statsmodels.tsa.arima.model.ARIMA (note the .\n",
      "between arima and model) and\n",
      "statsmodels.tsa.SARIMAX. These will be removed after the 0.12 release.\n",
      "\n",
      "statsmodels.tsa.arima.model.ARIMA makes use of the statespace framework and\n",
      "is both well tested and maintained.\n",
      "\n",
      "To silence this warning and continue using ARMA and ARIMA until they are\n",
      "removed, use:\n",
      "\n",
      "import warnings\n",
      "warnings.filterwarnings('ignore', 'statsmodels.tsa.arima_model.ARMA',\n",
      "                        FutureWarning)\n",
      "warnings.filterwarnings('ignore', 'statsmodels.tsa.arima_model.ARIMA',\n",
      "                        FutureWarning)\n",
      "\n",
      "  warnings.warn(ARIMA_DEPRECATION_WARN, FutureWarning)\n"
     ]
    },
    {
     "name": "stdout",
     "output_type": "stream",
     "text": [
      "                              ARMA Model Results                              \n",
      "==============================================================================\n",
      "Dep. Variable:                returns   No. Observations:                 5020\n",
      "Model:                     ARMA(0, 6)   Log Likelihood               -7888.835\n",
      "Method:                       css-mle   S.D. of innovations              1.165\n",
      "Date:                Sun, 11 Jul 2021   AIC                          15793.671\n",
      "Time:                        11:50:56   BIC                          15845.840\n",
      "Sample:                    01-10-1994   HQIC                         15811.952\n",
      "                         - 04-05-2013                                         \n",
      "=================================================================================\n",
      "                    coef    std err          z      P>|z|      [0.025      0.975]\n",
      "---------------------------------------------------------------------------------\n",
      "const             0.0190      0.013      1.433      0.152      -0.007       0.045\n",
      "ma.L1.returns    -0.0237      0.014     -1.682      0.092      -0.051       0.004\n",
      "ma.L2.returns    -0.0486      0.014     -3.438      0.001      -0.076      -0.021\n",
      "ma.L3.returns    -0.0828      0.014     -5.848      0.000      -0.111      -0.055\n",
      "ma.L4.returns     0.0466      0.014      3.433      0.001       0.020       0.073\n",
      "ma.L5.returns    -0.0485      0.014     -3.373      0.001      -0.077      -0.020\n",
      "ma.L6.returns    -0.0388      0.014     -2.686      0.007      -0.067      -0.010\n",
      "                                    Roots                                    \n",
      "=============================================================================\n",
      "                  Real          Imaginary           Modulus         Frequency\n",
      "-----------------------------------------------------------------------------\n",
      "MA.1            1.5007           -0.0000j            1.5007           -0.0000\n",
      "MA.2            0.8246           -1.4772j            1.6918           -0.1690\n",
      "MA.3            0.8246           +1.4772j            1.6918            0.1690\n",
      "MA.4           -1.0063           -1.2259j            1.5860           -0.3594\n",
      "MA.5           -1.0063           +1.2259j            1.5860            0.3594\n",
      "MA.6           -2.3879           -0.0000j            2.3879           -0.5000\n",
      "-----------------------------------------------------------------------------\n",
      "\n",
      "LLR Tests p-value:0.007\n"
     ]
    }
   ],
   "source": [
    "model_ret_ma_6=ARMA(df_train.returns[1:],order=(0,6))\n",
    "results_ret_ma_6=model_ret_ma_6.fit()\n",
    "print(results_ret_ma_6.summary())\n",
    "print('\\nLLR Tests p-value:' +str(llr_test(model_ret_ma_5,model_ret_ma_6)))"
   ]
  },
  {
   "cell_type": "code",
   "execution_count": 29,
   "metadata": {},
   "outputs": [
    {
     "name": "stderr",
     "output_type": "stream",
     "text": [
      "D:\\Users\\sebas\\anaconda3\\lib\\site-packages\\statsmodels\\tsa\\arima_model.py:472: FutureWarning: \n",
      "statsmodels.tsa.arima_model.ARMA and statsmodels.tsa.arima_model.ARIMA have\n",
      "been deprecated in favor of statsmodels.tsa.arima.model.ARIMA (note the .\n",
      "between arima and model) and\n",
      "statsmodels.tsa.SARIMAX. These will be removed after the 0.12 release.\n",
      "\n",
      "statsmodels.tsa.arima.model.ARIMA makes use of the statespace framework and\n",
      "is both well tested and maintained.\n",
      "\n",
      "To silence this warning and continue using ARMA and ARIMA until they are\n",
      "removed, use:\n",
      "\n",
      "import warnings\n",
      "warnings.filterwarnings('ignore', 'statsmodels.tsa.arima_model.ARMA',\n",
      "                        FutureWarning)\n",
      "warnings.filterwarnings('ignore', 'statsmodels.tsa.arima_model.ARIMA',\n",
      "                        FutureWarning)\n",
      "\n",
      "  warnings.warn(ARIMA_DEPRECATION_WARN, FutureWarning)\n"
     ]
    },
    {
     "name": "stdout",
     "output_type": "stream",
     "text": [
      "                              ARMA Model Results                              \n",
      "==============================================================================\n",
      "Dep. Variable:                returns   No. Observations:                 5020\n",
      "Model:                     ARMA(0, 7)   Log Likelihood               -7888.658\n",
      "Method:                       css-mle   S.D. of innovations              1.165\n",
      "Date:                Sun, 11 Jul 2021   AIC                          15795.316\n",
      "Time:                        11:53:09   BIC                          15854.006\n",
      "Sample:                    01-10-1994   HQIC                         15815.882\n",
      "                         - 04-05-2013                                         \n",
      "=================================================================================\n",
      "                    coef    std err          z      P>|z|      [0.025      0.975]\n",
      "---------------------------------------------------------------------------------\n",
      "const             0.0189      0.013      1.421      0.155      -0.007       0.045\n",
      "ma.L1.returns    -0.0247      0.014     -1.740      0.082      -0.052       0.003\n",
      "ma.L2.returns    -0.0488      0.014     -3.456      0.001      -0.077      -0.021\n",
      "ma.L3.returns    -0.0822      0.014     -5.791      0.000      -0.110      -0.054\n",
      "ma.L4.returns     0.0458      0.014      3.360      0.001       0.019       0.073\n",
      "ma.L5.returns    -0.0486      0.014     -3.383      0.001      -0.077      -0.020\n",
      "ma.L6.returns    -0.0390      0.014     -2.706      0.007      -0.067      -0.011\n",
      "ma.L7.returns     0.0085      0.014      0.596      0.551      -0.020       0.037\n",
      "                                    Roots                                    \n",
      "=============================================================================\n",
      "                  Real          Imaginary           Modulus         Frequency\n",
      "-----------------------------------------------------------------------------\n",
      "MA.1           -0.9686           -1.1811j            1.5274           -0.3593\n",
      "MA.2           -0.9686           +1.1811j            1.5274            0.3593\n",
      "MA.3           -2.0379           -0.0000j            2.0379           -0.5000\n",
      "MA.4            0.7510           -1.5245j            1.6994           -0.1771\n",
      "MA.5            0.7510           +1.5245j            1.6994            0.1771\n",
      "MA.6            1.5538           -0.0000j            1.5538           -0.0000\n",
      "MA.7            5.4942           -0.0000j            5.4942           -0.0000\n",
      "-----------------------------------------------------------------------------\n",
      "\n",
      "LLR Tests p-value:0.551\n"
     ]
    }
   ],
   "source": [
    "model_ret_ma_7=ARMA(df_train.returns[1:],order=(0,7))\n",
    "results_ret_ma_7=model_ret_ma_7.fit()\n",
    "print(results_ret_ma_7.summary())\n",
    "print('\\nLLR Tests p-value:' +str(llr_test(model_ret_ma_6,model_ret_ma_7)))"
   ]
  },
  {
   "cell_type": "code",
   "execution_count": 30,
   "metadata": {},
   "outputs": [
    {
     "name": "stderr",
     "output_type": "stream",
     "text": [
      "D:\\Users\\sebas\\anaconda3\\lib\\site-packages\\statsmodels\\tsa\\arima_model.py:472: FutureWarning: \n",
      "statsmodels.tsa.arima_model.ARMA and statsmodels.tsa.arima_model.ARIMA have\n",
      "been deprecated in favor of statsmodels.tsa.arima.model.ARIMA (note the .\n",
      "between arima and model) and\n",
      "statsmodels.tsa.SARIMAX. These will be removed after the 0.12 release.\n",
      "\n",
      "statsmodels.tsa.arima.model.ARIMA makes use of the statespace framework and\n",
      "is both well tested and maintained.\n",
      "\n",
      "To silence this warning and continue using ARMA and ARIMA until they are\n",
      "removed, use:\n",
      "\n",
      "import warnings\n",
      "warnings.filterwarnings('ignore', 'statsmodels.tsa.arima_model.ARMA',\n",
      "                        FutureWarning)\n",
      "warnings.filterwarnings('ignore', 'statsmodels.tsa.arima_model.ARIMA',\n",
      "                        FutureWarning)\n",
      "\n",
      "  warnings.warn(ARIMA_DEPRECATION_WARN, FutureWarning)\n"
     ]
    },
    {
     "name": "stdout",
     "output_type": "stream",
     "text": [
      "                              ARMA Model Results                              \n",
      "==============================================================================\n",
      "Dep. Variable:                returns   No. Observations:                 5020\n",
      "Model:                     ARMA(0, 8)   Log Likelihood               -7885.229\n",
      "Method:                       css-mle   S.D. of innovations              1.164\n",
      "Date:                Sun, 11 Jul 2021   AIC                          15790.457\n",
      "Time:                        11:54:58   BIC                          15855.669\n",
      "Sample:                    01-10-1994   HQIC                         15813.308\n",
      "                         - 04-05-2013                                         \n",
      "=================================================================================\n",
      "                    coef    std err          z      P>|z|      [0.025      0.975]\n",
      "---------------------------------------------------------------------------------\n",
      "const             0.0189      0.014      1.367      0.172      -0.008       0.046\n",
      "ma.L1.returns    -0.0238      0.014     -1.690      0.091      -0.051       0.004\n",
      "ma.L2.returns    -0.0496      0.014     -3.516      0.000      -0.077      -0.022\n",
      "ma.L3.returns    -0.0847      0.014     -5.994      0.000      -0.112      -0.057\n",
      "ma.L4.returns     0.0488      0.014      3.439      0.001       0.021       0.077\n",
      "ma.L5.returns    -0.0519      0.014     -3.636      0.000      -0.080      -0.024\n",
      "ma.L6.returns    -0.0402      0.014     -2.790      0.005      -0.068      -0.012\n",
      "ma.L7.returns     0.0084      0.014      0.591      0.555      -0.019       0.036\n",
      "ma.L8.returns     0.0365      0.014      2.621      0.009       0.009       0.064\n",
      "                                    Roots                                    \n",
      "=============================================================================\n",
      "                  Real          Imaginary           Modulus         Frequency\n",
      "-----------------------------------------------------------------------------\n",
      "MA.1            1.4720           -0.4280j            1.5330           -0.0450\n",
      "MA.2            1.4720           +0.4280j            1.5330            0.0450\n",
      "MA.3            0.5944           -1.3170j            1.4450           -0.1825\n",
      "MA.4            0.5944           +1.3170j            1.4450            0.1825\n",
      "MA.5           -0.7322           -1.2736j            1.4691           -0.3330\n",
      "MA.6           -0.7322           +1.2736j            1.4691            0.3330\n",
      "MA.7           -1.4494           -0.6986j            1.6090           -0.4285\n",
      "MA.8           -1.4494           +0.6986j            1.6090            0.4285\n",
      "-----------------------------------------------------------------------------\n",
      "\n",
      "LLR Tests p-value:0.009\n"
     ]
    }
   ],
   "source": [
    "model_ret_ma_8=ARMA(df_train.returns[1:],order=(0,8))\n",
    "results_ret_ma_8=model_ret_ma_8.fit()\n",
    "print(results_ret_ma_8.summary())\n",
    "print('\\nLLR Tests p-value:' +str(llr_test(model_ret_ma_7,model_ret_ma_8)))"
   ]
  },
  {
   "cell_type": "code",
   "execution_count": null,
   "metadata": {},
   "outputs": [],
   "source": []
  }
 ],
 "metadata": {
  "kernelspec": {
   "display_name": "Python 3",
   "language": "python",
   "name": "python3"
  },
  "language_info": {
   "codemirror_mode": {
    "name": "ipython",
    "version": 3
   },
   "file_extension": ".py",
   "mimetype": "text/x-python",
   "name": "python",
   "nbconvert_exporter": "python",
   "pygments_lexer": "ipython3",
   "version": "3.8.5"
  }
 },
 "nbformat": 4,
 "nbformat_minor": 4
}
