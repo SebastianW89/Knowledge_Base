{
 "cells": [
  {
   "cell_type": "markdown",
   "id": "7e842612",
   "metadata": {},
   "source": [
    "# Bubble Sort O(N²)"
   ]
  },
  {
   "cell_type": "code",
   "execution_count": 1,
   "id": "3d422066",
   "metadata": {},
   "outputs": [],
   "source": [
    "def bubble(list_a):\n",
    "    list_lenght=len(list_a)-1\n",
    "    sorted_list=False\n",
    "    \n",
    "    \n",
    "    while not sorted_list:\n",
    "        sorted_list=True\n",
    "        \n",
    "        for i in range(0,list_lenght):\n",
    "            if list_a[i]>list_a[i+1]:\n",
    "                list_a[i],list_a[i+1]=list_a[i+1],list_a[i]\n",
    "                sorted_list=False\n",
    "                \n",
    "    return list_a\n",
    "    "
   ]
  },
  {
   "cell_type": "code",
   "execution_count": 2,
   "id": "2be2b1fc",
   "metadata": {},
   "outputs": [
    {
     "data": {
      "text/plain": [
       "[1, 2, 2, 3, 4, 5, 5, 5, 6, 7, 8, 11, 25, 101]"
      ]
     },
     "execution_count": 2,
     "metadata": {},
     "output_type": "execute_result"
    }
   ],
   "source": [
    "bubble([2,5,6,8,7,1,2,5,11,25,101,3,4,5])"
   ]
  },
  {
   "cell_type": "markdown",
   "id": "29394e4a",
   "metadata": {},
   "source": [
    "# Selection Sort"
   ]
  },
  {
   "cell_type": "code",
   "execution_count": 7,
   "id": "4e8658bf",
   "metadata": {},
   "outputs": [],
   "source": [
    "def selection_sort(list_a):\n",
    "    list_index=len(list_a)-1\n",
    "    \n",
    "    for i in range(0,list_index):\n",
    "        min_value=i\n",
    "        \n",
    "        for j in range(i+1,len(list_a)): # Hier muss ich aber auch die letzte Zahl berücksichtigen\n",
    "            if list_a[j]<list_a[min_value]: #Wenn also der Wert am Index j kleiner als am Index I ist\n",
    "                min_value=j # Dann nehme den Index j als neuen Mindestindex des Wertes\n",
    "                \n",
    "                \n",
    "                \n",
    "        if min_value!=i:# Hier prüfen wir, ob der min_index sich durch j geändert hat, falls ja:\n",
    "            list_a[min_value],list_a[i]=list_a[i],list_a[min_value]\n",
    "    \n",
    "    return list_a"
   ]
  },
  {
   "cell_type": "code",
   "execution_count": 8,
   "id": "3ca18a7c",
   "metadata": {},
   "outputs": [
    {
     "data": {
      "text/plain": [
       "[2, 3, 4, 4, 4, 4, 5, 5, 5, 5, 6, 6, 6, 7, 7, 8, 21]"
      ]
     },
     "execution_count": 8,
     "metadata": {},
     "output_type": "execute_result"
    }
   ],
   "source": [
    "selection_sort([4,5,5,6,8,7,4,4,5,6,21,2,3,4,5,6,7])"
   ]
  },
  {
   "cell_type": "markdown",
   "id": "211a6d2e",
   "metadata": {},
   "source": [
    "# Insertion sort"
   ]
  },
  {
   "cell_type": "code",
   "execution_count": 16,
   "id": "cc873649",
   "metadata": {},
   "outputs": [],
   "source": [
    "def insertion_sort(list_a):\n",
    "    lenght=len(list_a)\n",
    "    \n",
    "    for i in range(1,lenght):\n",
    "        value_to_sort=list_a[i]\n",
    "        \n",
    "        while list_a[i-1]>value_to_sort and i>0:\n",
    "            list_a[i],list_a[i-1]=list_a[i-1],list_a[i]\n",
    "            i=i-1\n",
    "            \n",
    "    return list_a"
   ]
  },
  {
   "cell_type": "code",
   "execution_count": 17,
   "id": "c3f6c4e2",
   "metadata": {},
   "outputs": [
    {
     "data": {
      "text/plain": [
       "[1, 1, 2, 4, 5, 5, 6, 6, 6, 7, 8, 8, 9, 12, 21, 45, 56]"
      ]
     },
     "execution_count": 17,
     "metadata": {},
     "output_type": "execute_result"
    }
   ],
   "source": [
    "insertion_sort([1,2,5,6,8,6,45,21,56,12,4,5,6,1,7,9,8])"
   ]
  },
  {
   "cell_type": "markdown",
   "id": "bc31c3b0",
   "metadata": {},
   "source": [
    "# Qucik Sort\n",
    "Wenn du Listen concatinierst, erhälst du eine neue Liste mit allen Werten. Dies ist wichtig für den Algo\n",
    "Der Quick-sort ist der schnellste dieser Sortierungsalgos\n"
   ]
  },
  {
   "cell_type": "code",
   "execution_count": 18,
   "id": "20202dd4",
   "metadata": {},
   "outputs": [
    {
     "data": {
      "text/plain": [
       "[1, 2, 3, 4, 5, 6]"
      ]
     },
     "execution_count": 18,
     "metadata": {},
     "output_type": "execute_result"
    }
   ],
   "source": [
    "x=[1,2,3]\n",
    "y=[4,5,6]\n",
    "z=x+y\n",
    "z"
   ]
  },
  {
   "cell_type": "code",
   "execution_count": 22,
   "id": "6aef90eb",
   "metadata": {},
   "outputs": [],
   "source": [
    "def quick_sort(sequenz):\n",
    "    lenght=len(sequenz)\n",
    "    \n",
    "    if lenght<=1:\n",
    "        return sequenz\n",
    "    else:\n",
    "        pivot=sequenz.pop()\n",
    "        \n",
    "        \n",
    "    lower_list=[]\n",
    "    higher_list=[]\n",
    "    \n",
    "    for item in sequenz:\n",
    "        if item>pivot:\n",
    "            higher_list.append(item)\n",
    "        else:\n",
    "            lower_list.append(item)\n",
    "            \n",
    "    return quick_sort(lower_list) + [pivot] + quick_sort(higher_list)\n",
    "    "
   ]
  },
  {
   "cell_type": "code",
   "execution_count": 24,
   "id": "3544fee1",
   "metadata": {},
   "outputs": [
    {
     "name": "stdout",
     "output_type": "stream",
     "text": [
      "[1, 1, 2, 2, 2, 2, 3, 3, 4, 5, 5, 5, 6, 6, 6, 7, 8, 9, 12, 12, 21, 25, 25, 45, 45, 45, 46, 78, 89]\n"
     ]
    }
   ],
   "source": [
    "print(quick_sort([1,5,6,7,8,9,1,2,4,5,6,2,3,12,46,21,45,2,12,45,6,2,5,78,45,3,25,89,25,]))"
   ]
  }
 ],
 "metadata": {
  "kernelspec": {
   "display_name": "Python 3 (ipykernel)",
   "language": "python",
   "name": "python3"
  },
  "language_info": {
   "codemirror_mode": {
    "name": "ipython",
    "version": 3
   },
   "file_extension": ".py",
   "mimetype": "text/x-python",
   "name": "python",
   "nbconvert_exporter": "python",
   "pygments_lexer": "ipython3",
   "version": "3.8.5"
  }
 },
 "nbformat": 4,
 "nbformat_minor": 5
}
